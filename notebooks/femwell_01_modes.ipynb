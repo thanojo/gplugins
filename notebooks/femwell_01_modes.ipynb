{
 "cells": [
  {
   "cell_type": "markdown",
   "id": "0",
   "metadata": {},
   "source": [
    "# Finite-element mode solver\n",
    "\n",
    "You can mesh any component cross-section and solve the PDEs thanks to [femwell](https://helgegehring.github.io/femwell) mode - solver.\n",
    "\n",
    "Unlike other mode solvers, this actually uses the component geometry instead of a hardcoded geometry.\n",
    "\n",
    "You can directly compute the modes of a Gdsfactory cross-section (internally, it defines a \"uz\" mesh  perpendicular to a straight component with the provided cross-section).\n",
    "\n",
    "You can also downsample layers from the LayerStack, and modify both the cross-section and LayerStack  prior to simulation to change the geometry. You can also define refractive indices on the active PDK."
   ]
  },
  {
   "cell_type": "code",
   "execution_count": null,
   "id": "1",
   "metadata": {},
   "outputs": [],
   "source": [
    "import logging\n",
    "import sys\n",
    "\n",
    "import gdsfactory as gf\n",
    "import matplotlib.pyplot as plt\n",
    "import numpy as np\n",
    "from gdsfactory.cross_section import rib\n",
    "from gdsfactory.generic_tech import LAYER_STACK, get_generic_pdk\n",
    "from gdsfactory.technology import LayerStack\n",
    "from rich.logging import RichHandler\n",
    "from tqdm.auto import tqdm\n",
    "\n",
    "from gplugins.femwell.mode_solver import compute_cross_section_modes\n",
    "\n",
    "gf.config.rich_output()\n",
    "PDK = get_generic_pdk()\n",
    "PDK.activate()\n",
    "\n",
    "logger = logging.getLogger()\n",
    "logger.removeHandler(sys.stderr)\n",
    "logging.basicConfig(level=\"WARNING\", datefmt=\"[%X]\", handlers=[RichHandler()])"
   ]
  },
  {
   "cell_type": "code",
   "execution_count": null,
   "id": "2",
   "metadata": {},
   "outputs": [],
   "source": [
    "filtered_layer_stack = LayerStack(\n",
    "    layers={\n",
    "        k: LAYER_STACK.layers[k]\n",
    "        for k in (\n",
    "            \"core\",\n",
    "            \"clad\",\n",
    "            \"slab90\",\n",
    "            \"box\",\n",
    "            # \"substrate\",\n",
    "        )\n",
    "    }\n",
    ")\n",
    "\n",
    "filtered_layer_stack.layers[\n",
    "    \"core\"\n",
    "].thickness = 0.22  # Perturb the layer_stack before simulating\n",
    "\n",
    "filtered_layer_stack.layers[\n",
    "    \"slab90\"\n",
    "].thickness = 0.09  # Perturb the layer_stack before simulating\n",
    "\n",
    "resolutions = {\n",
    "    \"core\": {\"resolution\": 0.02, \"distance\": 1, \"SizeMax\": 0.2},\n",
    "    # \"clad\": {\"resolution\": 0.2, \"distance\": 1},\n",
    "    # \"box\": {\"resolution\": 0.2, \"distance\": 1},\n",
    "    # \"slab90\": {\"resolution\": 0.05, \"distance\": 1},\n",
    "}"
   ]
  },
  {
   "cell_type": "code",
   "execution_count": null,
   "id": "3",
   "metadata": {},
   "outputs": [],
   "source": [
    "modes = compute_cross_section_modes(\n",
    "    cross_section=rib(width=0.6),\n",
    "    layer_stack=filtered_layer_stack,\n",
    "    wavelength=1.55,\n",
    "    num_modes=1,\n",
    "    resolutions=resolutions,\n",
    "    n_guess=2.630929889650573,\n",
    ")"
   ]
  },
  {
   "cell_type": "markdown",
   "id": "4",
   "metadata": {},
   "source": [
    "The solver returns the list of modes"
   ]
  },
  {
   "cell_type": "code",
   "execution_count": null,
   "id": "5",
   "metadata": {
    "lines_to_next_cell": 2
   },
   "outputs": [],
   "source": [
    "mode = modes[0]\n",
    "mode.show(mode.E.real, colorbar=True, direction=\"x\")"
   ]
  },
  {
   "cell_type": "markdown",
   "id": "6",
   "metadata": {},
   "source": [
    "You can use them as inputs to other femwell mode solver functions to inspect or analyze the modes:"
   ]
  },
  {
   "cell_type": "code",
   "execution_count": null,
   "id": "7",
   "metadata": {},
   "outputs": [],
   "source": [
    "print(modes[0].te_fraction)"
   ]
  },
  {
   "cell_type": "code",
   "execution_count": null,
   "id": "8",
   "metadata": {},
   "outputs": [],
   "source": [
    "print(modes[0].n_eff)"
   ]
  },
  {
   "cell_type": "markdown",
   "id": "9",
   "metadata": {},
   "source": [
    "## Sweep waveguide width"
   ]
  },
  {
   "cell_type": "code",
   "execution_count": null,
   "id": "10",
   "metadata": {
    "lines_to_next_cell": 2
   },
   "outputs": [],
   "source": [
    "widths = np.linspace(0.2, 2, 10)\n",
    "num_modes = 4\n",
    "all_neffs = np.zeros((widths.shape[0], num_modes))\n",
    "all_te_fracs = np.zeros((widths.shape[0], num_modes))\n",
    "\n",
    "\n",
    "for i, width in enumerate(tqdm(widths)):\n",
    "    modes = compute_cross_section_modes(\n",
    "        cross_section=gf.cross_section.strip(width=width),\n",
    "        layer_stack=filtered_layer_stack,\n",
    "        wavelength=1.55,\n",
    "        num_modes=num_modes,\n",
    "        resolutions=resolutions,\n",
    "        wafer_padding=2,\n",
    "        solver=\"scipy\",\n",
    "    )\n",
    "    all_neffs[i] = np.real([mode.n_eff for mode in modes])\n",
    "    all_te_fracs[i, :] = [mode.te_fraction for mode in modes]"
   ]
  },
  {
   "cell_type": "code",
   "execution_count": null,
   "id": "11",
   "metadata": {},
   "outputs": [],
   "source": [
    "all_neffs = np.real(all_neffs)\n",
    "plt.xlabel(\"Width of waveguide  µm\")\n",
    "plt.ylabel(\"Effective refractive index\")\n",
    "plt.ylim(1.444, np.max(all_neffs) + 0.1 * (np.max(all_neffs) - 1.444))\n",
    "for lams, te_fracs in zip(all_neffs.T, all_te_fracs.T):\n",
    "    plt.plot(widths, lams, c=\"k\")\n",
    "    plt.scatter(widths, lams, c=te_fracs, cmap=\"cool\")\n",
    "plt.colorbar().set_label(\"TE fraction\")"
   ]
  }
 ],
 "metadata": {
  "jupytext": {
   "cell_metadata_filter": "-all",
   "main_language": "python",
   "notebook_metadata_filter": "-all"
  },
  "kernelspec": {
   "display_name": "base",
   "language": "python",
   "name": "python3"
  },
  "language_info": {
   "codemirror_mode": {
    "name": "ipython",
    "version": 3
   },
   "file_extension": ".py",
   "mimetype": "text/x-python",
   "name": "python",
   "nbconvert_exporter": "python",
   "pygments_lexer": "ipython3",
   "version": "3.11.5"
  }
 },
 "nbformat": 4,
 "nbformat_minor": 5
}
