{
 "cells": [
  {
   "cell_type": "markdown",
   "id": "0",
   "metadata": {},
   "source": [
    "# Analytical process simulation\n",
    "\n",
    "The simplest (and quickest) process simulation involves analytical implant tables, followed by broadening of the profile according to a tabulated diffusion coefficient.\n",
    "\n",
    "The implant module of gdsfactory tabulates these expressions for silicon and common implants, and allows you to import them to TCAD solvers.\n",
    "\n",
    "For more exact implant simulation, see the numerical implantation and numerical diffusion modules.\n",
    "\n",
    "References:\n",
    "\n",
    "[1] Selberherr, S. (1984). Process Modeling. In: Analysis and Simulation of Semiconductor Devices. Springer, Vienna. https://doi.org/10.1007/978-3-7091-8752-4_3"
   ]
  },
  {
   "cell_type": "code",
   "execution_count": null,
   "id": "1",
   "metadata": {
    "lines_to_next_cell": 2
   },
   "outputs": [],
   "source": [
    "import matplotlib.pyplot as plt\n",
    "import numpy as np\n",
    "\n",
    "from gplugins.process.implant_tables import *"
   ]
  },
  {
   "cell_type": "markdown",
   "id": "2",
   "metadata": {},
   "source": [
    "## Gaussian profile\n",
    "\n",
    "The simplest approximation to an implantation profile only considers the range (mean) and straggle (standard deviation) of the ion distribution:"
   ]
  },
  {
   "cell_type": "code",
   "execution_count": null,
   "id": "3",
   "metadata": {},
   "outputs": [],
   "source": [
    "energies = np.linspace(0, 300, 1000)  # keV\n",
    "\n",
    "for dopant in [\"boron\", \"phosphorus\", \"arsenic\", \"antimony\"]:\n",
    "    plt.plot(energies, depth_in_silicon[dopant](energies), label=dopant)\n",
    "\n",
    "plt.xlabel(\"Energy (keV)\")\n",
    "plt.ylabel(\"range (um)\")\n",
    "plt.legend(loc=\"best\")\n",
    "plt.title(\"Ion implantation in silicon, range\")"
   ]
  },
  {
   "cell_type": "code",
   "execution_count": null,
   "id": "4",
   "metadata": {},
   "outputs": [],
   "source": [
    "for dopant in [\"boron\", \"phosphorus\", \"arsenic\", \"antimony\"]:\n",
    "    plt.plot(energies, straggle_in_silicon[dopant](energies), label=dopant)\n",
    "\n",
    "plt.xlabel(\"Energy (keV)\")\n",
    "plt.ylabel(\"straggle (um)\")\n",
    "plt.legend(loc=\"best\")\n",
    "plt.title(\"Ion implantation in silicon, straggle\")"
   ]
  },
  {
   "cell_type": "code",
   "execution_count": null,
   "id": "5",
   "metadata": {},
   "outputs": [],
   "source": [
    "energies = [20, 40, 60, 80, 100, 120, 140, 160]\n",
    "z = np.linspace(0, 0.25, 1000)\n",
    "\n",
    "import matplotlib.pyplot as plt\n",
    "\n",
    "lower_lim = 0\n",
    "for E in energies:\n",
    "    c = silicon_gaussian_profile(\"arsenic\", dose=1e15, E=E, z=z)\n",
    "    plt.semilogy(z, c, label=E)\n",
    "    if c[0] > lower_lim:\n",
    "        lower_lim = c[0]\n",
    "\n",
    "plt.xlabel(\"depth (um)\")\n",
    "plt.ylabel(\"ion concentration (cm-3)\")\n",
    "plt.ylim([lower_lim, 1e21])\n",
    "plt.xlim([0, 0.2])\n",
    "plt.title(\"Gaussian implantation profile (1E15 cm-2 arsenic)\")\n",
    "plt.legend(title=\"Energy (keV)\")"
   ]
  },
  {
   "cell_type": "markdown",
   "id": "6",
   "metadata": {},
   "source": [
    "## Skewed Gaussian profile"
   ]
  },
  {
   "cell_type": "markdown",
   "id": "7",
   "metadata": {},
   "source": [
    "For more realistic results with nonzero skewness (we catalog the skews of [1], but your mileage may vary), two half-gaussians can better approximate the distribution:"
   ]
  },
  {
   "cell_type": "code",
   "execution_count": null,
   "id": "8",
   "metadata": {},
   "outputs": [],
   "source": [
    "for dopant in [\"boron\", \"phosphorus\", \"arsenic\", \"antimony\"]:\n",
    "    plt.plot(energies, skew_in_silicon[dopant](energies), label=dopant)\n",
    "\n",
    "plt.xlabel(\"Energy (keV)\")\n",
    "plt.ylabel(\"skewness (unitless)\")\n",
    "plt.legend(loc=\"best\")\n",
    "plt.title(\"Ion implantation in silicon, skewness\")"
   ]
  },
  {
   "cell_type": "code",
   "execution_count": null,
   "id": "9",
   "metadata": {},
   "outputs": [],
   "source": [
    "energies = [20, 40, 60, 80, 100, 120, 140, 160]\n",
    "z = np.linspace(0, 0.25, 1000)\n",
    "\n",
    "import matplotlib.pyplot as plt\n",
    "\n",
    "lower_lim = 0\n",
    "for E in energies:\n",
    "    c = silicon_skewed_gaussian_profile(\"arsenic\", dose=1e11, E=E, z=z)\n",
    "    plt.semilogy(z, c, label=E)\n",
    "    if c[0] > lower_lim:\n",
    "        lower_lim = c[0]\n",
    "\n",
    "plt.xlabel(\"depth (um)\")\n",
    "plt.ylabel(\"ion concentration (cm-2)\")\n",
    "plt.ylim([lower_lim, 1e18])\n",
    "plt.xlim([0, 0.2])\n",
    "plt.title(\"Joined half Gaussian implantation profile (|skew| <~ 1)\")\n",
    "plt.legend(title=\"Energy (keV)\")"
   ]
  },
  {
   "cell_type": "markdown",
   "id": "10",
   "metadata": {},
   "source": [
    "The above can be further improved by considering a Pearson IV distribution, or performing Monte-Carlo simulations of implantation."
   ]
  },
  {
   "cell_type": "markdown",
   "id": "11",
   "metadata": {},
   "source": [
    "## Diffusion\n",
    "\n",
    "Thermal treatment of the wafer to anneal implantation defects and activate the dopants results in rearrangement of the doping ions, and hence a change in doping profile. This is governed by the diffusivity of the species in the crystal:"
   ]
  },
  {
   "cell_type": "code",
   "execution_count": null,
   "id": "12",
   "metadata": {},
   "outputs": [],
   "source": [
    "from gplugins.process.diffusion import *"
   ]
  },
  {
   "cell_type": "code",
   "execution_count": null,
   "id": "13",
   "metadata": {},
   "outputs": [],
   "source": [
    "Ts = np.linspace(800, 1100, 100)\n",
    "\n",
    "for dopant in [\"boron\", \"phosphorus\", \"arsenic\", \"antimony\"]:\n",
    "    plt.semilogy(Ts, D(dopant, Ts), label=dopant)\n",
    "\n",
    "plt.xlabel(\"Temperature (C)\")\n",
    "plt.ylabel(\"Diffusivity (cm2 s-1)\")\n",
    "plt.title(\"Intrinsic diffusivity (n=p=ni)\")\n",
    "plt.legend()"
   ]
  },
  {
   "cell_type": "markdown",
   "id": "14",
   "metadata": {},
   "source": [
    "In this low-doping regime, the diffusivity can be taken as constant, and there exist an analytical solution for initially Gaussian doping profiles:"
   ]
  },
  {
   "cell_type": "code",
   "execution_count": null,
   "id": "15",
   "metadata": {},
   "outputs": [],
   "source": [
    "T = 1000  # C\n",
    "dopant = \"phosphorus\"\n",
    "dose = 1e12  # ions/cm2\n",
    "E = 100  # keV\n",
    "z = np.linspace(0, 0.6, 1000)\n",
    "\n",
    "for t in [0, 60, 5 * 60, 10 * 60]:\n",
    "    conc = silicon_diffused_gaussian_profile(\n",
    "        dopant=dopant,\n",
    "        dose=dose,\n",
    "        E=E,\n",
    "        t=t,\n",
    "        T=T,\n",
    "        z=z,\n",
    "    )\n",
    "    plt.plot(conc, label=t)\n",
    "plt.title(f\"{dopant} dose={dose:1.0e} ions/cm2, E={E}keV\")\n",
    "plt.xlabel(\"depth (um)\")\n",
    "plt.ylabel(\"ion concentration (cm-3)\")\n",
    "plt.legend(title=f\"Diffusion time @ {T}C (s)\")\n",
    "plt.show()"
   ]
  },
  {
   "cell_type": "markdown",
   "id": "16",
   "metadata": {},
   "source": [
    "This can be extended to many dimensions."
   ]
  },
  {
   "cell_type": "markdown",
   "id": "17",
   "metadata": {},
   "source": [
    "### Concentration-dependent diffusion\n",
    "\n",
    "In general, especially at higher concentrations, diffusivity depends on concentration:"
   ]
  },
  {
   "cell_type": "code",
   "execution_count": null,
   "id": "18",
   "metadata": {},
   "outputs": [],
   "source": [
    "Ts = [800, 850, 900, 950, 1000, 1050]\n",
    "conc = np.logspace(18, 21, 100)\n",
    "\n",
    "for T in Ts:\n",
    "    plt.loglog(conc, D(\"boron\", T, n=conc, p=conc), label=T)\n",
    "\n",
    "plt.xlabel(\"Acceptor concentration (cm-3)\")\n",
    "plt.ylabel(\"Diffusivity (cm2 s-1)\")\n",
    "plt.title(\"Diffusivity of boron (n=p=ni)\")\n",
    "plt.legend()"
   ]
  },
  {
   "cell_type": "code",
   "execution_count": null,
   "id": "19",
   "metadata": {},
   "outputs": [],
   "source": [
    "for T in Ts:\n",
    "    plt.loglog(conc, D(\"phosphorus\", T, n=conc, p=conc), label=T)\n",
    "\n",
    "plt.xlabel(\"Donor concentration (cm-3)\")\n",
    "plt.ylabel(\"Diffusivity (cm2 s-1)\")\n",
    "plt.title(\"Diffusivity of phosphorus (n=p=ni)\")\n",
    "plt.legend()"
   ]
  },
  {
   "cell_type": "code",
   "execution_count": null,
   "id": "20",
   "metadata": {},
   "outputs": [],
   "source": [
    "for T in Ts:\n",
    "    plt.loglog(conc, D(\"antimony\", T, n=conc, p=conc), label=T)\n",
    "\n",
    "plt.xlabel(\"Donor concentration (cm-3)\")\n",
    "plt.ylabel(\"Diffusivity (cm2 s-1)\")\n",
    "plt.title(\"Diffusivity of antimony (n=p=ni)\")\n",
    "plt.legend()"
   ]
  },
  {
   "cell_type": "code",
   "execution_count": null,
   "id": "21",
   "metadata": {},
   "outputs": [],
   "source": [
    "for T in Ts:\n",
    "    plt.loglog(conc, D(\"arsenic\", T, n=conc, p=conc), label=T)\n",
    "\n",
    "plt.xlabel(\"Donor concentration (cm-3)\")\n",
    "plt.ylabel(\"Diffusivity (cm2 s-1)\")\n",
    "plt.title(\"Diffusivity of arsenic (n=p=ni)\")\n",
    "plt.legend()"
   ]
  },
  {
   "cell_type": "markdown",
   "id": "22",
   "metadata": {},
   "source": [
    "The most generic solution considers the local forms of these concentration-dependent diffusivities for the diffusion equation of each dopant, as well as the electrostatic potential, in a finite-element scheme."
   ]
  }
 ],
 "metadata": {
  "jupytext": {
   "cell_metadata_filter": "-all",
   "main_language": "python",
   "notebook_metadata_filter": "-all"
  }
 },
 "nbformat": 4,
 "nbformat_minor": 5
}
