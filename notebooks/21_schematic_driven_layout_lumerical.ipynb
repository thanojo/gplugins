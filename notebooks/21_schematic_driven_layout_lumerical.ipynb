{
 "cells": [
  {
   "cell_type": "markdown",
   "id": "0",
   "metadata": {},
   "source": [
    "# Schematic Driven layout with Lumerical\n",
    "\n",
    "The Schematic driven layout uses a schematic based on our `*.pic.yml`.\n",
    "\n",
    "![](https://i.imgur.com/AxIGd1w.png)\n",
    "\n",
    "You will need a supported PDK. Make sure your foundry has a CML for interconnect and that you have a gdsfactory to CML YAML mapping file.\n",
    "\n",
    "Steps:\n",
    "\n",
    "- export SPICE netlist from interconnect.\n",
    "- Convert the SPICE netlist to gdsfactory YAML `*.pic.yml`, using the mapping from gdsfactory to interconnect.\n",
    "- Iterate over the `pic.yml` until you are happy with the final placements in your layout."
   ]
  },
  {
   "cell_type": "code",
   "execution_count": null,
   "id": "1",
   "metadata": {},
   "outputs": [],
   "source": [
    "from gdsfactory.config import GDSDIR_TEMP\n",
    "\n",
    "from gplugins import PATH\n",
    "from gplugins.spice.spice_to_yaml import spice_to_yaml\n",
    "from gplugins.spice.tests.test_interconnect import spice_netlist_interconnect\n",
    "\n",
    "netlist_path = GDSDIR_TEMP / \"test_interconnect.sp\"\n",
    "netlist_path.write_text(spice_netlist_interconnect)\n",
    "picyaml_path = GDSDIR_TEMP / \"test_interconnect.sp\"\n",
    "mapping_path = PATH.module / \"lumerical\" / \"mapping_ubcpdk.yml\"\n",
    "spice_to_yaml(\n",
    "    netlist_path=netlist_path,\n",
    "    picyaml_path=picyaml_path,\n",
    "    mapping_path=mapping_path,\n",
    "    pdk=\"ubcpdk\",\n",
    ")"
   ]
  },
  {
   "cell_type": "code",
   "execution_count": null,
   "id": "2",
   "metadata": {},
   "outputs": [],
   "source": []
  }
 ],
 "metadata": {
  "jupytext": {
   "cell_metadata_filter": "-all",
   "custom_cell_magics": "kql"
  },
  "kernelspec": {
   "display_name": "base",
   "language": "python",
   "name": "python3"
  },
  "language_info": {
   "codemirror_mode": {
    "name": "ipython",
    "version": 3
   },
   "file_extension": ".py",
   "mimetype": "text/x-python",
   "name": "python",
   "nbconvert_exporter": "python",
   "pygments_lexer": "ipython3",
   "version": "3.11.5"
  }
 },
 "nbformat": 4,
 "nbformat_minor": 5
}
